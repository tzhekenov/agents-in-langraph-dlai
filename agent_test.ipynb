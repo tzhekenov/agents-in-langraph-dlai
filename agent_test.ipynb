{
 "cells": [
  {
   "cell_type": "code",
   "execution_count": null,
   "id": "0e645f94",
   "metadata": {},
   "outputs": [
    {
     "name": "stdout",
     "output_type": "stream",
     "text": [
      "\n",
      "client = OpenAI()\n",
      "\n",
      "def chat(message):\n",
      "    chat_completion = client.chat.completions.create(\n",
      "        model=\"gpt-4.1-nano\",\n",
      "        messages=[{\"role\": \"user\", \"content\": message}]\n",
      "    )\n",
      "    return chat_completion.choices[0].message.content\n",
      "\n",
      "chat(\"hi\")\n"
     ]
    }
   ],
   "source": [
    "import openai\n",
    "import re\n",
    "import httpx\n",
    "import os\n",
    "from openai import OpenAI\n",
    "from dotenv import load_dotenv\n",
    "_ = load_dotenv()\n",
    "\n",
    "### CORE OPENAI CALL###\n",
    "text = \"\"\"\n",
    "client = OpenAI()\n",
    "\n",
    "def chat(message):\n",
    "    chat_completion = client.chat.completions.create(\n",
    "        model=\"gpt-4.1-nano\",\n",
    "        messages=[{\"role\": \"user\", \"content\": message}]\n",
    "    )\n",
    "    return chat_completion.choices[0].message.content\n",
    "\n",
    "chat(\"hi\")\"\"\"\n",
    "print(text)"
   ]
  },
  {
   "cell_type": "markdown",
   "id": "637b745c",
   "metadata": {},
   "source": [
    "### SIMPLE LLM CLASS BASED "
   ]
  },
  {
   "cell_type": "code",
   "execution_count": 118,
   "id": "59aab6a8",
   "metadata": {},
   "outputs": [],
   "source": [
    "class llm():\n",
    "    def __init__(self, system=\"\"):\n",
    "        self.system = system\n",
    "        self.message = []\n",
    "        self.message.append({\"role\": \"system\", \"content\": system})\n",
    "\n",
    "    def __call__(self, message):\n",
    "        self.message.append({\"role\": \"user\", \"content\": message})\n",
    "        self.execute()\n",
    "\n",
    "    def execute(self):\n",
    "        chat_completion = client.chat.completions.create(\n",
    "            model=\"gpt-4.1-nano\",\n",
    "            messages=self.message\n",
    "        )\n",
    "        print('message')\n",
    "        return print(chat_completion.choices[0].message.content)"
   ]
  },
  {
   "cell_type": "code",
   "execution_count": 132,
   "id": "394269bf",
   "metadata": {},
   "outputs": [
    {
     "name": "stdout",
     "output_type": "stream",
     "text": [
      "message\n",
      "Hello! Welcome! To get started, could you please tell me your full name?\n"
     ]
    }
   ],
   "source": [
    "# Create and test your agent\n",
    "agent = llm(\"You are an HR agent, who collects and remembers info about applicant including name, email, phone. Start asking question\")\n",
    "agent(\"Hello!\")"
   ]
  },
  {
   "cell_type": "code",
   "execution_count": 133,
   "id": "72684384",
   "metadata": {},
   "outputs": [
    {
     "name": "stdout",
     "output_type": "stream",
     "text": [
      "message\n",
      "Hello Temirlan! Great to meet you. Could you please provide your email address?\n"
     ]
    }
   ],
   "source": [
    "agent(\"my name is Temirlan Zhekenov!\")"
   ]
  },
  {
   "cell_type": "code",
   "execution_count": 134,
   "id": "4e71e6d6",
   "metadata": {},
   "outputs": [
    {
     "name": "stdout",
     "output_type": "stream",
     "text": [
      "message\n",
      "Hello Temirlan! Nice to meet you. Could you please provide your phone number?\n"
     ]
    }
   ],
   "source": [
    "agent(\"my email is tima@mail.gh!\")"
   ]
  },
  {
   "cell_type": "code",
   "execution_count": 135,
   "id": "0975ddd7",
   "metadata": {},
   "outputs": [
    {
     "name": "stdout",
     "output_type": "stream",
     "text": [
      "message\n",
      "Hello, Temirlan! Thank you for providing your information. Could you please tell me a bit about your previous work experience?\n"
     ]
    }
   ],
   "source": [
    "agent(\"my phone number is +37482348203\")"
   ]
  },
  {
   "cell_type": "code",
   "execution_count": 136,
   "id": "d5fdec44",
   "metadata": {},
   "outputs": [
    {
     "name": "stdout",
     "output_type": "stream",
     "text": [
      "message\n",
      "Here are the details you've provided:\n",
      "- Name: Temirlan Zhekenov\n",
      "- Email: tima@mail.gh\n",
      "- Phone: +37482348203\n",
      "\n",
      "Is there anything else you'd like to add or update?\n"
     ]
    }
   ],
   "source": [
    "agent(\"output all my details\")"
   ]
  },
  {
   "cell_type": "code",
   "execution_count": 137,
   "id": "ff2de27b",
   "metadata": {},
   "outputs": [
    {
     "data": {
      "text/plain": [
       "[{'role': 'system',\n",
       "  'content': 'You are an HR agent, who collects and remembers info about applicant including name, email, phone. Start asking question'},\n",
       " {'role': 'user', 'content': 'Hello!'},\n",
       " {'role': 'user', 'content': 'my name is Temirlan Zhekenov!'},\n",
       " {'role': 'user', 'content': 'my email is tima@mail.gh!'},\n",
       " {'role': 'user', 'content': 'my phone number is +37482348203'},\n",
       " {'role': 'user', 'content': 'output all my details'}]"
      ]
     },
     "execution_count": 137,
     "metadata": {},
     "output_type": "execute_result"
    }
   ],
   "source": [
    "agent.message"
   ]
  },
  {
   "cell_type": "markdown",
   "id": "c378051f",
   "metadata": {},
   "source": [
    "## Agentic realization"
   ]
  },
  {
   "cell_type": "code",
   "execution_count": null,
   "id": "4cd1401e",
   "metadata": {},
   "outputs": [],
   "source": []
  },
  {
   "cell_type": "code",
   "execution_count": null,
   "id": "de8a723f",
   "metadata": {},
   "outputs": [],
   "source": []
  }
 ],
 "metadata": {
  "kernelspec": {
   "display_name": "agents-in-langraph-dlai",
   "language": "python",
   "name": "python3"
  },
  "language_info": {
   "codemirror_mode": {
    "name": "ipython",
    "version": 3
   },
   "file_extension": ".py",
   "mimetype": "text/x-python",
   "name": "python",
   "nbconvert_exporter": "python",
   "pygments_lexer": "ipython3",
   "version": "3.13.5"
  }
 },
 "nbformat": 4,
 "nbformat_minor": 5
}
