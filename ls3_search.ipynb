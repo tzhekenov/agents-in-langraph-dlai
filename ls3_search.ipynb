{
 "cells": [
  {
   "cell_type": "markdown",
   "id": "2544dd96-a13c-42df-ab63-c427e68fd41e",
   "metadata": {},
   "source": [
    "# Lesson 3: Agentic Search"
   ]
  },
  {
   "cell_type": "code",
   "execution_count": 1,
   "id": "d0168aee-bce9-4d60-b827-f86a88187e31",
   "metadata": {
    "height": 198
   },
   "outputs": [],
   "source": [
    "# libraries\n",
    "from dotenv import load_dotenv\n",
    "import os\n",
    "from tavily import TavilyClient\n",
    "\n",
    "# load environment variables from .env file\n",
    "_ = load_dotenv()\n",
    "\n",
    "# connect\n",
    "client = TavilyClient(api_key=os.environ.get(\"TAVILY_API_KEY\"))"
   ]
  },
  {
   "cell_type": "code",
   "execution_count": 2,
   "id": "a2ba84ec-c172-4de7-ac55-e3158a531b23",
   "metadata": {
    "height": 147
   },
   "outputs": [
    {
     "data": {
      "text/plain": [
       "\"The new Blackwell GPU features two dies with 192GB to 288GB of HBM3e memory and a 10 TB/s interconnect. It includes a second-generation Transformer Engine and advanced NVLink. It's designed for generative AI and large-scale AI models.\""
      ]
     },
     "execution_count": 2,
     "metadata": {},
     "output_type": "execute_result"
    }
   ],
   "source": [
    "# run search\n",
    "result = client.search(\"What is in Nvidia's new Blackwell GPU?\",\n",
    "                       include_answer=True)\n",
    "\n",
    "# print the answer\n",
    "result[\"answer\"]\n"
   ]
  },
  {
   "cell_type": "markdown",
   "id": "d7f3f33c-c7bd-4b7f-9616-b65eef104514",
   "metadata": {},
   "source": [
    "## Regular search"
   ]
  },
  {
   "cell_type": "code",
   "execution_count": 3,
   "id": "876d5092-b8ef-4e38-b4d7-0e80c609bf7a",
   "metadata": {
    "height": 181
   },
   "outputs": [],
   "source": [
    "# choose location (try to change to your own city!)\n",
    "\n",
    "city = \"Amsterdam\"\n",
    "\n",
    "query = f\"\"\"\n",
    "    what is the current weather in {city}?\n",
    "    Should I travel there today?\n",
    "    \"weather.com\"\n",
    "\"\"\""
   ]
  },
  {
   "cell_type": "markdown",
   "id": "2128e40f-11ef-41ed-ac1f-7feeb5546224",
   "metadata": {},
   "source": [
    "> Note: search was modified to return expected results in the event of an exception. High volumes of student traffic sometimes cause rate limit exceptions."
   ]
  },
  {
   "cell_type": "code",
   "execution_count": 4,
   "id": "10084a02-2928-4945-9f7c-ad3f5b33caf7",
   "metadata": {
    "height": 402
   },
   "outputs": [
    {
     "name": "stdout",
     "output_type": "stream",
     "text": [
      "https://www.zhihu.com/question/19565664\n",
      "https://www.zhihu.com/question/20831164\n",
      "https://answers.microsoft.com/en-us/msteams/forum/all/ms-teams-is-always-asking-for-my-password/3e15e820-9fce-4d32-b734-6ee770668ede\n",
      "https://answers.microsoft.com/en-us/outlook_com/forum/all/using-rules-to-delete-items-from-deleted-items/9e229952-77bb-4e5d-a132-a7599072e90b\n",
      "https://answers.microsoft.com/en-us/outlook_com/forum/all/outlook-365-rules-not-running-automatically/1b18f3e6-6427-4291-aa08-56855a9e7415\n",
      "https://answers.microsoft.com/en-us/outlook_com/forum/all/hotmail-login-constantly-asking-to-reset-password/680ad7e7-2e89-499b-967a-e5e39ac5d3e9\n"
     ]
    },
    {
     "name": "stderr",
     "output_type": "stream",
     "text": [
      "/var/folders/r2/n1vtxc157gz88z42zprlblb00000gn/T/ipykernel_10750/2852339428.py:6: RuntimeWarning: This package (`duckduckgo_search`) has been renamed to `ddgs`! Use `pip install ddgs` instead.\n",
      "  ddg = DDGS()\n"
     ]
    }
   ],
   "source": [
    "import requests\n",
    "from bs4 import BeautifulSoup\n",
    "from duckduckgo_search import DDGS\n",
    "import re\n",
    "\n",
    "ddg = DDGS()\n",
    "\n",
    "def search(query, max_results=6):\n",
    "    try:\n",
    "        results = ddg.text(query, max_results=max_results)\n",
    "        return [i[\"href\"] for i in results]\n",
    "    except Exception as e:\n",
    "        print(f\"returning previous results due to exception reaching ddg.\")\n",
    "        results = [ # cover case where DDG rate limits due to high deeplearning.ai volume\n",
    "            \"https://weather.com/weather/today/l/USCA0987:1:US\",\n",
    "            \"https://weather.com/weather/hourbyhour/l/54f9d8baac32496f6b5497b4bf7a277c3e2e6cc5625de69680e6169e7e38e9a8\",\n",
    "        ]\n",
    "        return results  \n",
    "\n",
    "\n",
    "for i in search(query):\n",
    "    print(i)"
   ]
  },
  {
   "cell_type": "code",
   "execution_count": 5,
   "id": "d31c432d-8e22-412f-b302-961ace0b00bd",
   "metadata": {
    "height": 283
   },
   "outputs": [],
   "source": [
    "def scrape_weather_info(url):\n",
    "    \"\"\"Scrape content from the given URL\"\"\"\n",
    "    if not url:\n",
    "        return \"Weather information could not be found.\"\n",
    "    \n",
    "    # fetch data\n",
    "    headers = {'User-Agent': 'Mozilla/5.0'}\n",
    "    response = requests.get(url, headers=headers)\n",
    "    if response.status_code != 200:\n",
    "        return \"Failed to retrieve the webpage.\"\n",
    "\n",
    "    # parse result\n",
    "    soup = BeautifulSoup(response.text, 'html.parser')\n",
    "    return soup\n"
   ]
  },
  {
   "cell_type": "markdown",
   "id": "0b67d8ad-a439-4c91-9dfe-7c84998ef644",
   "metadata": {},
   "source": [
    "> Note: This produces a long output, you may want to right click and clear the cell output after you look at it briefly to avoid scrolling past it."
   ]
  },
  {
   "cell_type": "code",
   "execution_count": 6,
   "id": "714d1205-f8fc-4912-b148-2a45da99219c",
   "metadata": {
    "height": 164
   },
   "outputs": [
    {
     "name": "stdout",
     "output_type": "stream",
     "text": [
      "Website: https://colab.research.google.com/\n",
      "\n",
      "\n",
      "<body class=\"\"><div class=\"onegoogle\"><div class=\"gb_Fa gb_Kd gb_4d\" id=\"gb\"><div class=\"gb_Dd gb_1d gb_yd\" data-ogsr-up=\"\" ng-non-bindable=\"\" style=\"padding:0\"><div class=\"gb_Te\" style=\"display:block\"><div class=\"gb_4c\"></div><a aria-label=\"Sign in\" class=\"gb_Ua gb_Ad gb_rd gb_id\" href=\"https://accounts.google.com/ServiceLogin?passive=true&amp;continue=https%3A%2F%2Fcolab.research.google.com%2F&amp;ec=GAZAqQM\" target=\"_top\"><span class=\"gb_Vd\">Sign in</span></a></div></div></div><script nonce=\"lecnLvqLrizGMFApEv2zdQ==\">this.gbar_=this.gbar_||{};(function(_){var window=this;\n",
      "try{\n",
      "_.ke=function(a,b,c){if(!a.j)if(c instanceof Array){c=_.C(c);for(var d=c.next();!d.done;d=c.next())_.ke(a,b,d.value)}else{d=(0,_.D)(a.C,a,b);var e=a.v+c;a.v++;b.dataset.eqid=e;a.B[e]=d;b&&b.addEventListener?b.addEventListener(c,d,!1):b&&b.attachEvent?b.attachEvent(\"on\"+c,d):a.o.log(Error(\"G`\"+b))}};\n",
      "}catch(e){_._DumpException(e)}\n",
      "try{\n",
      "_.le=function(){if(!_.t.addEventListener||!Object.defineProperty)return!1;var a=!1,b=Object.defineProperty({},\"passive\",{get:function(){a=!0}});try{var c=function(){};_.t.addEventListener(\"test\",c,b);_.t.removeEventListener(\"test\",c,b)}catch(d){}return a}();\n",
      "}catch(e){_._DumpException(e)}\n",
      "try{\n",
      "var me=document.querySelector(\".gb_J .gb_B\"),oe=document.querySelector(\"#gb.gb_Tc\");me&&!oe&&_.ke(_.Vd,me,\"click\");\n",
      "}catch(e){_._DumpException(e)}\n",
      "try{\n",
      "var Xh=function(a){_.S.call(this);this.B=a;this.v=null;this.o={};this.C={};this.i={};this.j=null};_.B(Xh,_.S);_.Yh=function(a){if(a.v)return a.v;for(var b in a.i)if(a.i[b].Fe()&&a.i[b].hb())return a.i[b];return null};Xh.prototype.A=function(a){this.i[a]&&(_.Yh(this)&&_.Yh(this).zc()==a||this.i[a].zd(!0))};Xh.prototype.Ra=function(a){this.j=a;for(var b in this.i)this.i[b].Fe()&&this.i[b].Ra(a)};_.Zh=function(a,b){a.i[b.zc()]=b};Xh.prototype.Tb=function(a){return a in this.i?this.i[a]:null};var $h=new Xh(_.Ud);_.Yd(\"dd\",$h);\n",
      "}catch(e){_._DumpException(e)}\n",
      "try{\n",
      "_.qj=function(a,b){return _.N(a,36,b)};\n",
      "}catch(e){_._DumpException(e)}\n",
      "try{\n",
      "var rj=document.querySelector(\".gb_z .gb_B\"),sj=document.querySelector(\"#gb.gb_Tc\");rj&&!sj&&_.ke(_.Vd,rj,\"click\");\n",
      "}catch(e){_._DumpException(e)}\n",
      "})(this.gbar_);\n",
      "// Google Inc.\n",
      "</script></div><div class=\"scripts\"><script nonce=\"lecnLvqLrizGMFApEv2zdQ==\">window.performance.mark('external_scripts_start');</script><script nonce=\"lecnLvqLrizGMFApEv2zdQ==\" src=\"https://ssl.gstatic.com/colaboratory-static/common/2b88f18e90dcb44fcd19e8c4a434af3c/gapi_loader.js\"></script><script nonce=\"lecnLvqLrizGMFApEv2zdQ==\" src=\"https://ssl.gstatic.com/colaboratory-static/common/2b88f18e90dcb44fcd19e8c4a434af3c/socketio_binary.js\"></script><script nonce=\"lecnLvqLrizGMFApEv2zdQ==\" src=\"https://ssl.gstatic.com/colaboratory-static/common/2b88f18e90dcb44fcd19e8c4a434af3c/analytics_binary.js\"></script><script nonce=\"lecnLvqLrizGMFApEv2zdQ==\" src=\"/static/mathjax/MathJax.js?config=TeX-AMS_HTML-full,Safe&amp;delayStartupUntil=configured\"></script><script nonce=\"lecnLvqLrizGMFApEv2zdQ==\" src=\"https://ssl.gstatic.com/colaboratory-static/common/2b88f18e90dcb44fcd19e8c4a434af3c/js%2Fmonaco_editor%2Fvs%2Floader.js\"></script><script nonce=\"lecnLvqLrizGMFApEv2zdQ==\">window.performance.mark('external_scripts_end'); window.performance.measure('external_scripts', 'external_scripts_start', 'external_scripts_end'); window.performance.mark('colab_load_start');</script><script nonce=\"lecnLvqLrizGMFApEv2zdQ==\" src=\"https://ssl.gstatic.com/colaboratory-static/common/2b88f18e90dcb44fcd19e8c4a434af3c/external_binary.js\"></script><script nonce=\"lecnLvqLrizGMFApEv2zdQ==\">\n",
      "          window.performance.mark('colab_load_end');\n",
      "          window.performance.measure('colab_load', 'colab_load_start', 'colab_load_end');\n",
      "        </script></div><div ng-non-bindable=\"\"></div><script nonce=\"lecnLvqLrizGMFApEv2zdQ==\">this.gbar_=this.gbar_||{};(function(_){var window=this;\n",
      "try{\n",
      "var qe=function(){_.aa.call(this)};_.B(qe,_.Zd);_.re=function(a,b){if(b in a.i)return a.i[b];throw new qe(b);};_.se=function(a){return _.re(_.Wd.i(),a)};\n",
      "}catch(e){_._DumpException(e)}\n",
      "try{\n",
      "/*\n",
      "\n",
      " Copyright Google LLC\n",
      " SPDX-License-Identifier: Apache-2.0\n",
      "*/\n",
      "var ve,we;_.te=function(a){var b=a.length;if(b>0){for(var c=Array(b),d=0;d<b;d++)c[d]=a[d];return c}return[]};ve=function(a){return new _.ue(function(b){return b.substr(0,a.length+1).toLowerCase()===a+\":\"})};we=0;_.xe=function(a){return Object.prototype.hasOwnProperty.call(a,_.dc)&&a[_.dc]||(a[_.dc]=++we)};_.ye=globalThis.trustedTypes;_.ze=function(a){this.i=a};_.ze.prototype.toString=function(){return this.i};_.Ae=new _.ze(\"about:invalid#zClosurez\");_.ue=function(a){this.Zj=a};_.Be=[ve(\"data\"),ve(\"http\"),ve(\"https\"),ve(\"mailto\"),ve(\"ftp\"),new _.ue(function(a){return/^[^:]*([/?#]|$)/.test(a)})];_.Ce=function(a){this.i=a};_.Ce.prototype.toString=function(){return this.i+\"\"};_.De=new _.Ce(_.ye?_.ye.emptyHTML:\"\");\n",
      "}catch(e){_._DumpException(e)}\n",
      "try{\n",
      "var Ie,Ue,He,Je;_.Ee=function(a){return/^[\\s\\xa0]*$/.test(a)};_.Fe=function(a){if(a==null)return a;if(typeof a===\"string\"&&a)a=+a;else if(typeof a!==\"number\")return;return(0,_.Sa)(a)?a|0:void 0};_.Ge=function(a,b){return a.lastIndexOf(b,0)==0};Ie=function(){var a=null;if(!He)return a;try{var b=function(c){return c};a=He.createPolicy(\"ogb-qtm#html\",{createHTML:b,createScript:b,createScriptURL:b})}catch(c){}return a};_.Ke=function(){Je===void 0&&(Je=Ie());return Je};\n",
      "_.Me=function(a){var b=_.Ke();a=b?b.createScriptURL(a):a;return new _.Le(a)};_.Ne=function(a){if(a instanceof _.Le)return a.i;throw Error(\"K\");};_.Pe=function(a){if(Oe.test(a))return a};_.Qe=function(a){if(a instanceof _.ze)if(a instanceof _.ze)a=a.i;else throw Error(\"K\");else a=_.Pe(a);return a};_.Re=function(a,b){b=b===void 0?document:b;var c,d;b=(d=(c=b).querySelector)==null?void 0:d.call(c,a+\"[nonce]\");return b==null?\"\":b.nonce||b.getAttribute(\"nonce\")||\"\"};\n",
      "_.T=function(a,b,c){return _.Ra(_.rd(a,b,c,_.qd))};_.Se=function(a,b){return _.Fe(_.rd(a,b,void 0,_.qd))};_.Te=function(a){var b=_.Pa(a);return b==\"array\"||b==\"object\"&&typeof a.length==\"number\"};He=_.ye;_.Le=function(a){this.i=a};_.Le.prototype.toString=function(){return this.i+\"\"};var Oe=/^\\s*(?!javascript:)(?:[\\w+.-]+:|[^:/?#]*(?:[/?#]|$))/i;var $e,df,Ve;_.Xe=function(a){return a?new Ve(_.We(a)):Ue||(Ue=new Ve)};_.Ye=function(a,b){return typeof b===\"string\"?a.getElementById(b):b};_.V=function(a,b){var c=b||document;c.getElementsByClassName?a=c.getElementsByClassName(a)[0]:(c=document,a=a?(b||c).querySelector(a?\".\"+a:\"\"):_.Ze(c,\"*\",a,b)[0]||null);return a||null};_.Ze=function(a,b,c,d){a=d||a;return(b=b&&b!=\"*\"?String(b).toUpperCase():\"\")||c?a.querySelectorAll(b+(c?\".\"+c:\"\")):a.getElementsByTagName(\"*\")};\n",
      "_.af=function(a,b){_.Hb(b,function(c,d){d==\"style\"?a.style.cssText=c:d==\"class\"?a.className=c:d==\"for\"?a.htmlFor=c:$e.hasOwnProperty(d)?a.setAttribute($e[d],c):_.Ge(d,\"aria-\")||_.Ge(d,\"data-\")?a.setAttribute(d,c):a[d]=c})};$e={cellpadding:\"cellPadding\",cellspacing:\"cellSpacing\",colspan:\"colSpan\",frameborder:\"frameBorder\",height:\"height\",maxlength:\"maxLength\",nonce:\"nonce\",role:\"role\",rowspan:\"rowSpan\",type:\"type\",usemap:\"useMap\",valign:\"vAlign\",width:\"width\"};\n",
      "_.bf=function(a){return a?a.defaultView:window};_.ef=function(a,b){var c=b[1],d=_.cf(a,String(b[0]));c&&(typeof c===\"string\"?d.className=c:Array.isArray(c)?d.className=c.join(\" \"):_.af(d,c));b.length>2&&df(a,d,b);return d};\n",
      "df=function(a,b,c){function d(h){h&&b.appendChild(typeof h===\"string\"?a.createTextNode(h):h)}for(var e=2;e<c.length;e++){var f=c[e];if(!_.Te(f)||_.cc(f)&&f.nodeType>0)d(f);else{a:{if(f&&typeof f.length==\"number\"){if(_.cc(f)){var g=typeof f.item==\"function\"||typeof f.item==\"string\";break a}if(typeof f===\"function\"){g=typeof f.item==\"function\";break a}}g=!1}_.Ac(g?_.te(f):f,d)}}};_.ff=function(a){return _.cf(document,a)};\n",
      "_.cf=function(a,b){b=String(b);a.contentType===\"application/xhtml+xml\"&&(b=b.toLowerCase());return a.createElement(b)};_.gf=function(a){for(var b;b=a.firstChild;)a.removeChild(b)};_.hf=function(a){return a&&a.parentNode?a.parentNode.removeChild(a):null};_.jf=function(a,b){if(!a||!b)return!1;if(a.contains&&b.nodeType==1)return a==b||a.contains(b);if(typeof a.compareDocumentPosition!=\"undefined\")return a==b||!!(a.compareDocumentPosition(b)&16);for(;b&&a!=b;)b=b.parentNode;return b==a};\n",
      "_.We=function(a){return a.nodeType==9?a:a.ownerDocument||a.document};Ve=function(a){this.i=a||_.t.document||document};_.l=Ve.prototype;_.l.H=function(a){return _.Ye(this.i,a)};_.l.Na=function(a,b,c){return _.ef(this.i,arguments)};_.l.appendChild=function(a,b){a.appendChild(b)};_.l.mf=_.gf;_.l.Wg=_.hf;_.l.Vg=_.jf;\n",
      "}catch(e){_._DumpException(e)}\n",
      "try{\n",
      "_.xj=function(a){var b=_.Re(\"script\",a.ownerDocument);b&&a.setAttribute(\"nonce\",b)};_.yj=function(a){if(!a)return null;a=_.M(a,4);var b;a===null||a===void 0?b=null:b=_.Me(a);return b};_.zj=function(a,b,c){a=a.J;return _.Eb(a,a[_.v]|0,b,c)!==void 0};_.Aj=function(a){this.J=_.x(a)};_.B(_.Aj,_.R);_.Bj=function(){for(var a=Number(this),b=[],c=a;c<arguments.length;c++)b[c-a]=arguments[c];return b};_.Cj=function(a,b){return(b||document).getElementsByTagName(String(a))};\n",
      "}catch(e){_._DumpException(e)}\n",
      "try{\n",
      "var Ej=function(a,b,c){a<b?Dj(a+1,b):_.Ud.log(Error(\"ia`\"+a+\"`\"+b),{url:c})},Dj=function(a,b){if(Fj){var c=_.ff(\"SCRIPT\");c.async=!0;c.type=\"text/javascript\";c.charset=\"UTF-8\";c.src=_.Ne(Fj);_.xj(c);c.onerror=_.hc(Ej,a,b,c.src);_.Cj(\"HEAD\")[0].appendChild(c)}},Gj=function(a){this.J=_.x(a)};_.B(Gj,_.R);var Hj=_.I(_.Qd,Gj,17)||new Gj,Ij,Fj=(Ij=_.I(Hj,_.Aj,1))?_.yj(Ij):null,Jj,Kj=(Jj=_.I(Hj,_.Aj,2))?_.yj(Jj):null,Lj=function(){Dj(1,2);if(Kj){var a=_.ff(\"LINK\");a.setAttribute(\"type\",\"text/css\");a.href=_.Ne(Kj).toString();a.rel=\"stylesheet\";var b=_.Re(\"style\",document);b&&a.setAttribute(\"nonce\",b);_.Cj(\"HEAD\")[0].appendChild(a)}};(function(){var a=_.Rd();if(_.T(a,18))Lj();else{var b=_.Se(a,19)||0;window.addEventListener(\"load\",function(){window.setTimeout(Lj,b)})}})();\n",
      "}catch(e){_._DumpException(e)}\n",
      "})(this.gbar_);\n",
      "// Google Inc.\n",
      "</script></body>\n"
     ]
    }
   ],
   "source": [
    "# use DuckDuckGo to find websites and take the first result\n",
    "url = search(query)[0]\n",
    "\n",
    "# scrape first wesbsite\n",
    "soup = scrape_weather_info(url)\n",
    "\n",
    "print(f\"Website: {url}\\n\\n\")\n",
    "print(str(soup.body)[:50000]) # limit long outputs"
   ]
  },
  {
   "cell_type": "code",
   "execution_count": 7,
   "id": "6cb3ef4c-58b3-401b-b104-0d51e553d982",
   "metadata": {
    "height": 266
   },
   "outputs": [
    {
     "name": "stdout",
     "output_type": "stream",
     "text": [
      "Website: https://colab.research.google.com/\n",
      "\n",
      "\n",
      "\n"
     ]
    }
   ],
   "source": [
    "# extract text\n",
    "weather_data = []\n",
    "for tag in soup.find_all(['h1', 'h2', 'h3', 'p']):\n",
    "    text = tag.get_text(\" \", strip=True)\n",
    "    weather_data.append(text)\n",
    "\n",
    "# combine all elements into a single string\n",
    "weather_data = \"\\n\".join(weather_data)\n",
    "\n",
    "# remove all spaces from the combined text\n",
    "weather_data = re.sub(r'\\s+', ' ', weather_data)\n",
    "    \n",
    "print(f\"Website: {url}\\n\\n\")\n",
    "print(weather_data)"
   ]
  },
  {
   "cell_type": "markdown",
   "id": "92db676d-d8d9-4558-8dcf-1b20fcb48e45",
   "metadata": {},
   "source": [
    "## Agentic Search"
   ]
  },
  {
   "cell_type": "code",
   "execution_count": 8,
   "id": "dc3293b7-a50c-43c8-a022-8975e1e444b8",
   "metadata": {
    "height": 147
   },
   "outputs": [
    {
     "name": "stdout",
     "output_type": "stream",
     "text": [
      "{'location': {'name': 'Amsterdam', 'region': 'North Holland', 'country': 'Netherlands', 'lat': 52.374, 'lon': 4.8897, 'tz_id': 'Europe/Amsterdam', 'localtime_epoch': 1755251224, 'localtime': '2025-08-15 11:47'}, 'current': {'last_updated_epoch': 1755251100, 'last_updated': '2025-08-15 11:45', 'temp_c': 26.2, 'temp_f': 79.2, 'is_day': 1, 'condition': {'text': 'Sunny', 'icon': '//cdn.weatherapi.com/weather/64x64/day/113.png', 'code': 1000}, 'wind_mph': 7.4, 'wind_kph': 11.9, 'wind_degree': 295, 'wind_dir': 'WNW', 'pressure_mb': 1023.0, 'pressure_in': 30.21, 'precip_mm': 0.0, 'precip_in': 0.0, 'humidity': 61, 'cloud': 0, 'feelslike_c': 26.7, 'feelslike_f': 80.0, 'windchill_c': 26.1, 'windchill_f': 79.1, 'heatindex_c': 26.6, 'heatindex_f': 80.0, 'dewpoint_c': 14.2, 'dewpoint_f': 57.6, 'vis_km': 10.0, 'vis_miles': 6.0, 'uv': 3.4, 'gust_mph': 8.5, 'gust_kph': 13.7}}\n"
     ]
    }
   ],
   "source": [
    "# run search\n",
    "result = client.search(query, max_results=1)\n",
    "\n",
    "# print first result\n",
    "data = result[\"results\"][0][\"content\"]\n",
    "\n",
    "print(data)"
   ]
  },
  {
   "cell_type": "code",
   "execution_count": 9,
   "id": "0722c3d4-4cbf-43bf-81b0-50f634c4ce61",
   "metadata": {
    "height": 266
   },
   "outputs": [
    {
     "name": "stdout",
     "output_type": "stream",
     "text": [
      "{\u001b[37m\u001b[39;49;00m\n",
      "\u001b[37m    \u001b[39;49;00m\u001b[94m\"location\"\u001b[39;49;00m:\u001b[37m \u001b[39;49;00m{\u001b[37m\u001b[39;49;00m\n",
      "\u001b[37m        \u001b[39;49;00m\u001b[94m\"name\"\u001b[39;49;00m:\u001b[37m \u001b[39;49;00m\u001b[33m\"Amsterdam\"\u001b[39;49;00m,\u001b[37m\u001b[39;49;00m\n",
      "\u001b[37m        \u001b[39;49;00m\u001b[94m\"region\"\u001b[39;49;00m:\u001b[37m \u001b[39;49;00m\u001b[33m\"North Holland\"\u001b[39;49;00m,\u001b[37m\u001b[39;49;00m\n",
      "\u001b[37m        \u001b[39;49;00m\u001b[94m\"country\"\u001b[39;49;00m:\u001b[37m \u001b[39;49;00m\u001b[33m\"Netherlands\"\u001b[39;49;00m,\u001b[37m\u001b[39;49;00m\n",
      "\u001b[37m        \u001b[39;49;00m\u001b[94m\"lat\"\u001b[39;49;00m:\u001b[37m \u001b[39;49;00m\u001b[34m52.374\u001b[39;49;00m,\u001b[37m\u001b[39;49;00m\n",
      "\u001b[37m        \u001b[39;49;00m\u001b[94m\"lon\"\u001b[39;49;00m:\u001b[37m \u001b[39;49;00m\u001b[34m4.8897\u001b[39;49;00m,\u001b[37m\u001b[39;49;00m\n",
      "\u001b[37m        \u001b[39;49;00m\u001b[94m\"tz_id\"\u001b[39;49;00m:\u001b[37m \u001b[39;49;00m\u001b[33m\"Europe/Amsterdam\"\u001b[39;49;00m,\u001b[37m\u001b[39;49;00m\n",
      "\u001b[37m        \u001b[39;49;00m\u001b[94m\"localtime_epoch\"\u001b[39;49;00m:\u001b[37m \u001b[39;49;00m\u001b[34m1755251224\u001b[39;49;00m,\u001b[37m\u001b[39;49;00m\n",
      "\u001b[37m        \u001b[39;49;00m\u001b[94m\"localtime\"\u001b[39;49;00m:\u001b[37m \u001b[39;49;00m\u001b[33m\"2025-08-15 11:47\"\u001b[39;49;00m\u001b[37m\u001b[39;49;00m\n",
      "\u001b[37m    \u001b[39;49;00m},\u001b[37m\u001b[39;49;00m\n",
      "\u001b[37m    \u001b[39;49;00m\u001b[94m\"current\"\u001b[39;49;00m:\u001b[37m \u001b[39;49;00m{\u001b[37m\u001b[39;49;00m\n",
      "\u001b[37m        \u001b[39;49;00m\u001b[94m\"last_updated_epoch\"\u001b[39;49;00m:\u001b[37m \u001b[39;49;00m\u001b[34m1755251100\u001b[39;49;00m,\u001b[37m\u001b[39;49;00m\n",
      "\u001b[37m        \u001b[39;49;00m\u001b[94m\"last_updated\"\u001b[39;49;00m:\u001b[37m \u001b[39;49;00m\u001b[33m\"2025-08-15 11:45\"\u001b[39;49;00m,\u001b[37m\u001b[39;49;00m\n",
      "\u001b[37m        \u001b[39;49;00m\u001b[94m\"temp_c\"\u001b[39;49;00m:\u001b[37m \u001b[39;49;00m\u001b[34m26.2\u001b[39;49;00m,\u001b[37m\u001b[39;49;00m\n",
      "\u001b[37m        \u001b[39;49;00m\u001b[94m\"temp_f\"\u001b[39;49;00m:\u001b[37m \u001b[39;49;00m\u001b[34m79.2\u001b[39;49;00m,\u001b[37m\u001b[39;49;00m\n",
      "\u001b[37m        \u001b[39;49;00m\u001b[94m\"is_day\"\u001b[39;49;00m:\u001b[37m \u001b[39;49;00m\u001b[34m1\u001b[39;49;00m,\u001b[37m\u001b[39;49;00m\n",
      "\u001b[37m        \u001b[39;49;00m\u001b[94m\"condition\"\u001b[39;49;00m:\u001b[37m \u001b[39;49;00m{\u001b[37m\u001b[39;49;00m\n",
      "\u001b[37m            \u001b[39;49;00m\u001b[94m\"text\"\u001b[39;49;00m:\u001b[37m \u001b[39;49;00m\u001b[33m\"Sunny\"\u001b[39;49;00m,\u001b[37m\u001b[39;49;00m\n",
      "\u001b[37m            \u001b[39;49;00m\u001b[94m\"icon\"\u001b[39;49;00m:\u001b[37m \u001b[39;49;00m\u001b[33m\"//cdn.weatherapi.com/weather/64x64/day/113.png\"\u001b[39;49;00m,\u001b[37m\u001b[39;49;00m\n",
      "\u001b[37m            \u001b[39;49;00m\u001b[94m\"code\"\u001b[39;49;00m:\u001b[37m \u001b[39;49;00m\u001b[34m1000\u001b[39;49;00m\u001b[37m\u001b[39;49;00m\n",
      "\u001b[37m        \u001b[39;49;00m},\u001b[37m\u001b[39;49;00m\n",
      "\u001b[37m        \u001b[39;49;00m\u001b[94m\"wind_mph\"\u001b[39;49;00m:\u001b[37m \u001b[39;49;00m\u001b[34m7.4\u001b[39;49;00m,\u001b[37m\u001b[39;49;00m\n",
      "\u001b[37m        \u001b[39;49;00m\u001b[94m\"wind_kph\"\u001b[39;49;00m:\u001b[37m \u001b[39;49;00m\u001b[34m11.9\u001b[39;49;00m,\u001b[37m\u001b[39;49;00m\n",
      "\u001b[37m        \u001b[39;49;00m\u001b[94m\"wind_degree\"\u001b[39;49;00m:\u001b[37m \u001b[39;49;00m\u001b[34m295\u001b[39;49;00m,\u001b[37m\u001b[39;49;00m\n",
      "\u001b[37m        \u001b[39;49;00m\u001b[94m\"wind_dir\"\u001b[39;49;00m:\u001b[37m \u001b[39;49;00m\u001b[33m\"WNW\"\u001b[39;49;00m,\u001b[37m\u001b[39;49;00m\n",
      "\u001b[37m        \u001b[39;49;00m\u001b[94m\"pressure_mb\"\u001b[39;49;00m:\u001b[37m \u001b[39;49;00m\u001b[34m1023.0\u001b[39;49;00m,\u001b[37m\u001b[39;49;00m\n",
      "\u001b[37m        \u001b[39;49;00m\u001b[94m\"pressure_in\"\u001b[39;49;00m:\u001b[37m \u001b[39;49;00m\u001b[34m30.21\u001b[39;49;00m,\u001b[37m\u001b[39;49;00m\n",
      "\u001b[37m        \u001b[39;49;00m\u001b[94m\"precip_mm\"\u001b[39;49;00m:\u001b[37m \u001b[39;49;00m\u001b[34m0.0\u001b[39;49;00m,\u001b[37m\u001b[39;49;00m\n",
      "\u001b[37m        \u001b[39;49;00m\u001b[94m\"precip_in\"\u001b[39;49;00m:\u001b[37m \u001b[39;49;00m\u001b[34m0.0\u001b[39;49;00m,\u001b[37m\u001b[39;49;00m\n",
      "\u001b[37m        \u001b[39;49;00m\u001b[94m\"humidity\"\u001b[39;49;00m:\u001b[37m \u001b[39;49;00m\u001b[34m61\u001b[39;49;00m,\u001b[37m\u001b[39;49;00m\n",
      "\u001b[37m        \u001b[39;49;00m\u001b[94m\"cloud\"\u001b[39;49;00m:\u001b[37m \u001b[39;49;00m\u001b[34m0\u001b[39;49;00m,\u001b[37m\u001b[39;49;00m\n",
      "\u001b[37m        \u001b[39;49;00m\u001b[94m\"feelslike_c\"\u001b[39;49;00m:\u001b[37m \u001b[39;49;00m\u001b[34m26.7\u001b[39;49;00m,\u001b[37m\u001b[39;49;00m\n",
      "\u001b[37m        \u001b[39;49;00m\u001b[94m\"feelslike_f\"\u001b[39;49;00m:\u001b[37m \u001b[39;49;00m\u001b[34m80.0\u001b[39;49;00m,\u001b[37m\u001b[39;49;00m\n",
      "\u001b[37m        \u001b[39;49;00m\u001b[94m\"windchill_c\"\u001b[39;49;00m:\u001b[37m \u001b[39;49;00m\u001b[34m26.1\u001b[39;49;00m,\u001b[37m\u001b[39;49;00m\n",
      "\u001b[37m        \u001b[39;49;00m\u001b[94m\"windchill_f\"\u001b[39;49;00m:\u001b[37m \u001b[39;49;00m\u001b[34m79.1\u001b[39;49;00m,\u001b[37m\u001b[39;49;00m\n",
      "\u001b[37m        \u001b[39;49;00m\u001b[94m\"heatindex_c\"\u001b[39;49;00m:\u001b[37m \u001b[39;49;00m\u001b[34m26.6\u001b[39;49;00m,\u001b[37m\u001b[39;49;00m\n",
      "\u001b[37m        \u001b[39;49;00m\u001b[94m\"heatindex_f\"\u001b[39;49;00m:\u001b[37m \u001b[39;49;00m\u001b[34m80.0\u001b[39;49;00m,\u001b[37m\u001b[39;49;00m\n",
      "\u001b[37m        \u001b[39;49;00m\u001b[94m\"dewpoint_c\"\u001b[39;49;00m:\u001b[37m \u001b[39;49;00m\u001b[34m14.2\u001b[39;49;00m,\u001b[37m\u001b[39;49;00m\n",
      "\u001b[37m        \u001b[39;49;00m\u001b[94m\"dewpoint_f\"\u001b[39;49;00m:\u001b[37m \u001b[39;49;00m\u001b[34m57.6\u001b[39;49;00m,\u001b[37m\u001b[39;49;00m\n",
      "\u001b[37m        \u001b[39;49;00m\u001b[94m\"vis_km\"\u001b[39;49;00m:\u001b[37m \u001b[39;49;00m\u001b[34m10.0\u001b[39;49;00m,\u001b[37m\u001b[39;49;00m\n",
      "\u001b[37m        \u001b[39;49;00m\u001b[94m\"vis_miles\"\u001b[39;49;00m:\u001b[37m \u001b[39;49;00m\u001b[34m6.0\u001b[39;49;00m,\u001b[37m\u001b[39;49;00m\n",
      "\u001b[37m        \u001b[39;49;00m\u001b[94m\"uv\"\u001b[39;49;00m:\u001b[37m \u001b[39;49;00m\u001b[34m3.4\u001b[39;49;00m,\u001b[37m\u001b[39;49;00m\n",
      "\u001b[37m        \u001b[39;49;00m\u001b[94m\"gust_mph\"\u001b[39;49;00m:\u001b[37m \u001b[39;49;00m\u001b[34m8.5\u001b[39;49;00m,\u001b[37m\u001b[39;49;00m\n",
      "\u001b[37m        \u001b[39;49;00m\u001b[94m\"gust_kph\"\u001b[39;49;00m:\u001b[37m \u001b[39;49;00m\u001b[34m13.7\u001b[39;49;00m\u001b[37m\u001b[39;49;00m\n",
      "\u001b[37m    \u001b[39;49;00m}\u001b[37m\u001b[39;49;00m\n",
      "}\u001b[37m\u001b[39;49;00m\n",
      "\n"
     ]
    }
   ],
   "source": [
    "import json\n",
    "from pygments import highlight, lexers, formatters\n",
    "\n",
    "# parse JSON\n",
    "parsed_json = json.loads(data.replace(\"'\", '\"'))\n",
    "\n",
    "# pretty print JSON with syntax highlighting\n",
    "formatted_json = json.dumps(parsed_json, indent=4)\n",
    "colorful_json = highlight(formatted_json,\n",
    "                          lexers.JsonLexer(),\n",
    "                          formatters.TerminalFormatter())\n",
    "\n",
    "print(colorful_json)\n"
   ]
  },
  {
   "cell_type": "markdown",
   "id": "837f3ecd-df6b-4f2f-9325-a253678897b0",
   "metadata": {},
   "source": [
    "<img src=\"./google_sample.png\" width=\"800\" height=\"600\">"
   ]
  },
  {
   "cell_type": "markdown",
   "id": "2d50874f",
   "metadata": {},
   "source": []
  }
 ],
 "metadata": {
  "kernelspec": {
   "display_name": "agents-in-langraph-dlai",
   "language": "python",
   "name": "python3"
  },
  "language_info": {
   "codemirror_mode": {
    "name": "ipython",
    "version": 3
   },
   "file_extension": ".py",
   "mimetype": "text/x-python",
   "name": "python",
   "nbconvert_exporter": "python",
   "pygments_lexer": "ipython3",
   "version": "3.13.5"
  }
 },
 "nbformat": 4,
 "nbformat_minor": 5
}
